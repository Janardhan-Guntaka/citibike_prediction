{
 "cells": [
  {
   "cell_type": "code",
   "execution_count": 7,
   "id": "4aba119e-8624-4c30-ad3c-49759f3f18d4",
   "metadata": {},
   "outputs": [],
   "source": [
    "import sys\n",
    "import os\n",
    "\n",
    "# Add the parent directory to the Python path\n",
    "sys.path.append(os.path.abspath(os.path.join(os.getcwd(), \"..\")))\n",
    "import src.config as config"
   ]
  },
  {
   "cell_type": "code",
   "execution_count": 8,
   "id": "60fe3ee1",
   "metadata": {},
   "outputs": [],
   "source": [
    "import joblib\n",
    "from hsml.model_schema import ModelSchema\n",
    "from hsml.schema import Schema\n",
    "from sklearn.metrics import mean_absolute_error\n",
    "\n",
    "import src.config as config\n",
    "from src.data_utils import transform_ts_data_info_features_and_target\n",
    "from src.inference import (\n",
    "    fetch_days_data,\n",
    "    get_hopsworks_project,\n",
    "    load_metrics_from_registry,\n",
    "    load_model_from_registry,\n",
    ")\n",
    "from src.pipeline_utils import get_pipeline"
   ]
  },
  {
   "cell_type": "code",
   "execution_count": 9,
   "id": "08c3943c",
   "metadata": {},
   "outputs": [],
   "source": [
    "from datetime import datetime, timedelta, timezone\n",
    "from zoneinfo import ZoneInfo\n",
    "import hopsworks\n",
    "import numpy as np\n",
    "import pandas as pd\n",
    "from hsfs.feature_store import FeatureStore\n",
    "\n",
    "import src.config as config\n",
    "from src.data_utils import transform_ts_data_info_features"
   ]
  },
  {
   "cell_type": "code",
   "execution_count": 10,
   "id": "88ad6d4b",
   "metadata": {},
   "outputs": [],
   "source": [
    "def get_feature_store() -> FeatureStore:\n",
    "    project = get_hopsworks_project()\n",
    "    return project.get_feature_store()"
   ]
  },
  {
   "cell_type": "code",
   "execution_count": 11,
   "id": "12703f21",
   "metadata": {},
   "outputs": [],
   "source": [
    "def fetch_days_data(days):\n",
    "    current_date = pd.to_datetime(datetime.now(timezone.utc)).tz_convert(\"America/New_York\")\n",
    "    fetch_data_from = current_date - timedelta(days=(days))\n",
    "    fetch_data_to = current_date - timedelta(days=0)\n",
    "    print(fetch_data_from, fetch_data_to)\n",
    "    print(\"ghcgchcgfc\")\n",
    "    fs = get_feature_store()\n",
    "    fg = fs.get_feature_group(name=config.FEATURE_GROUP_NAME, version=1)\n",
    "\n",
    "    query = fg.select_all()\n",
    "    # query = query.filter((fg.pickup_hour >= fetch_data_from))\n",
    "    df = query.read()\n",
    "    cond = (df[\"pickup_hour\"] >= fetch_data_from) & (df[\"pickup_hour\"] <= fetch_data_to)\n",
    "    print(sum(cond))\n",
    "    return df[cond]\n",
    "    # return df"
   ]
  },
  {
   "cell_type": "code",
   "execution_count": 12,
   "id": "596f748e",
   "metadata": {},
   "outputs": [
    {
     "name": "stdout",
     "output_type": "stream",
     "text": [
      "Fetching data from group store ...\n",
      "2024-11-11 05:15:13.672703-05:00 2025-05-10 06:15:13.672703-04:00\n",
      "ghcgchcgfc\n",
      "2025-05-10 06:15:13,728 INFO: Closing external client and cleaning up certificates.\n"
     ]
    },
    {
     "name": "stdout",
     "output_type": "stream",
     "text": [
      "Connection closed.\n",
      "2025-05-10 06:15:13,799 INFO: Initializing external client\n",
      "2025-05-10 06:15:13,801 INFO: Base URL: https://c.app.hopsworks.ai:443\n"
     ]
    },
    {
     "name": "stderr",
     "output_type": "stream",
     "text": [
      "\n",
      "\n",
      "UserWarning: The installed hopsworks client version 4.1.5 may not be compatible with the connected Hopsworks backend version 4.2.0. \n",
      "To ensure compatibility please install the latest bug fix release matching the minor version of your backend (4.2) by running 'pip install hopsworks==4.2.*'\n"
     ]
    },
    {
     "name": "stdout",
     "output_type": "stream",
     "text": [
      "2025-05-10 06:15:14,861 INFO: Python Engine initialized.\n",
      "\n",
      "Logged in to project, explore it here https://c.app.hopsworks.ai:443/p/1214691\n"
     ]
    },
    {
     "ename": "ValueError",
     "evalue": "Reading data with Hive is not supported when using hopsworks client version >= 4.0",
     "output_type": "error",
     "traceback": [
      "\u001b[1;31m---------------------------------------------------------------------------\u001b[0m",
      "\u001b[1;31mValueError\u001b[0m                                Traceback (most recent call last)",
      "Cell \u001b[1;32mIn[12], line 2\u001b[0m\n\u001b[0;32m      1\u001b[0m \u001b[38;5;28mprint\u001b[39m(\u001b[38;5;124mf\u001b[39m\u001b[38;5;124m\"\u001b[39m\u001b[38;5;124mFetching data from group store ...\u001b[39m\u001b[38;5;124m\"\u001b[39m)\n\u001b[1;32m----> 2\u001b[0m ts_data \u001b[38;5;241m=\u001b[39m \u001b[43mfetch_days_data\u001b[49m\u001b[43m(\u001b[49m\u001b[38;5;241;43m180\u001b[39;49m\u001b[43m)\u001b[49m\n",
      "Cell \u001b[1;32mIn[11], line 12\u001b[0m, in \u001b[0;36mfetch_days_data\u001b[1;34m(days)\u001b[0m\n\u001b[0;32m     10\u001b[0m query \u001b[38;5;241m=\u001b[39m fg\u001b[38;5;241m.\u001b[39mselect_all()\n\u001b[0;32m     11\u001b[0m \u001b[38;5;66;03m# query = query.filter((fg.pickup_hour >= fetch_data_from))\u001b[39;00m\n\u001b[1;32m---> 12\u001b[0m df \u001b[38;5;241m=\u001b[39m \u001b[43mquery\u001b[49m\u001b[38;5;241;43m.\u001b[39;49m\u001b[43mread\u001b[49m\u001b[43m(\u001b[49m\u001b[43m)\u001b[49m\n\u001b[0;32m     13\u001b[0m cond \u001b[38;5;241m=\u001b[39m (df[\u001b[38;5;124m\"\u001b[39m\u001b[38;5;124mpickup_hour\u001b[39m\u001b[38;5;124m\"\u001b[39m] \u001b[38;5;241m>\u001b[39m\u001b[38;5;241m=\u001b[39m fetch_data_from) \u001b[38;5;241m&\u001b[39m (df[\u001b[38;5;124m\"\u001b[39m\u001b[38;5;124mpickup_hour\u001b[39m\u001b[38;5;124m\"\u001b[39m] \u001b[38;5;241m<\u001b[39m\u001b[38;5;241m=\u001b[39m fetch_data_to)\n\u001b[0;32m     14\u001b[0m \u001b[38;5;28mprint\u001b[39m(\u001b[38;5;28msum\u001b[39m(cond))\n",
      "File \u001b[1;32mc:\\Users\\2003j\\anaconda3\\envs\\citibike_predict_2\\lib\\site-packages\\hsfs\\constructor\\query.py:206\u001b[0m, in \u001b[0;36mQuery.read\u001b[1;34m(self, online, dataframe_type, read_options)\u001b[0m\n\u001b[0;32m    201\u001b[0m     \u001b[38;5;28;01mif\u001b[39;00m \u001b[38;5;28mlen\u001b[39m(\u001b[38;5;28mself\u001b[39m\u001b[38;5;241m.\u001b[39mjoins) \u001b[38;5;241m>\u001b[39m \u001b[38;5;241m0\u001b[39m \u001b[38;5;129;01mor\u001b[39;00m \u001b[38;5;28;01mNone\u001b[39;00m \u001b[38;5;129;01min\u001b[39;00m [f\u001b[38;5;241m.\u001b[39mtype \u001b[38;5;28;01mfor\u001b[39;00m f \u001b[38;5;129;01min\u001b[39;00m schema]:\n\u001b[0;32m    202\u001b[0m         \u001b[38;5;28;01mraise\u001b[39;00m \u001b[38;5;167;01mValueError\u001b[39;00m(\n\u001b[0;32m    203\u001b[0m             \u001b[38;5;124m\"\u001b[39m\u001b[38;5;124mPandas types casting only supported for feature_group.read()/query.select_all()\u001b[39m\u001b[38;5;124m\"\u001b[39m\n\u001b[0;32m    204\u001b[0m         )\n\u001b[1;32m--> 206\u001b[0m \u001b[38;5;28;01mreturn\u001b[39;00m \u001b[43mengine\u001b[49m\u001b[38;5;241;43m.\u001b[39;49m\u001b[43mget_instance\u001b[49m\u001b[43m(\u001b[49m\u001b[43m)\u001b[49m\u001b[38;5;241;43m.\u001b[39;49m\u001b[43msql\u001b[49m\u001b[43m(\u001b[49m\n\u001b[0;32m    207\u001b[0m \u001b[43m    \u001b[49m\u001b[43msql_query\u001b[49m\u001b[43m,\u001b[49m\n\u001b[0;32m    208\u001b[0m \u001b[43m    \u001b[49m\u001b[38;5;28;43mself\u001b[39;49m\u001b[38;5;241;43m.\u001b[39;49m\u001b[43m_feature_store_name\u001b[49m\u001b[43m,\u001b[49m\n\u001b[0;32m    209\u001b[0m \u001b[43m    \u001b[49m\u001b[43monline_conn\u001b[49m\u001b[43m,\u001b[49m\n\u001b[0;32m    210\u001b[0m \u001b[43m    \u001b[49m\u001b[43mdataframe_type\u001b[49m\u001b[43m,\u001b[49m\n\u001b[0;32m    211\u001b[0m \u001b[43m    \u001b[49m\u001b[43mread_options\u001b[49m\u001b[43m,\u001b[49m\n\u001b[0;32m    212\u001b[0m \u001b[43m    \u001b[49m\u001b[43mschema\u001b[49m\u001b[43m,\u001b[49m\n\u001b[0;32m    213\u001b[0m \u001b[43m\u001b[49m\u001b[43m)\u001b[49m\n",
      "File \u001b[1;32mc:\\Users\\2003j\\anaconda3\\envs\\citibike_predict_2\\lib\\site-packages\\hsfs\\engine\\python.py:146\u001b[0m, in \u001b[0;36mEngine.sql\u001b[1;34m(self, sql_query, feature_store, online_conn, dataframe_type, read_options, schema)\u001b[0m\n\u001b[0;32m    136\u001b[0m \u001b[38;5;28;01mdef\u001b[39;00m\u001b[38;5;250m \u001b[39m\u001b[38;5;21msql\u001b[39m(\n\u001b[0;32m    137\u001b[0m     \u001b[38;5;28mself\u001b[39m,\n\u001b[0;32m    138\u001b[0m     sql_query: \u001b[38;5;28mstr\u001b[39m,\n\u001b[1;32m   (...)\u001b[0m\n\u001b[0;32m    143\u001b[0m     schema: Optional[List[feature\u001b[38;5;241m.\u001b[39mFeature]] \u001b[38;5;241m=\u001b[39m \u001b[38;5;28;01mNone\u001b[39;00m,\n\u001b[0;32m    144\u001b[0m ) \u001b[38;5;241m-\u001b[39m\u001b[38;5;241m>\u001b[39m Union[pd\u001b[38;5;241m.\u001b[39mDataFrame, pl\u001b[38;5;241m.\u001b[39mDataFrame]:\n\u001b[0;32m    145\u001b[0m     \u001b[38;5;28;01mif\u001b[39;00m \u001b[38;5;129;01mnot\u001b[39;00m online_conn:\n\u001b[1;32m--> 146\u001b[0m         \u001b[38;5;28;01mreturn\u001b[39;00m \u001b[38;5;28;43mself\u001b[39;49m\u001b[38;5;241;43m.\u001b[39;49m\u001b[43m_sql_offline\u001b[49m\u001b[43m(\u001b[49m\n\u001b[0;32m    147\u001b[0m \u001b[43m            \u001b[49m\u001b[43msql_query\u001b[49m\u001b[43m,\u001b[49m\n\u001b[0;32m    148\u001b[0m \u001b[43m            \u001b[49m\u001b[43mdataframe_type\u001b[49m\u001b[43m,\u001b[49m\n\u001b[0;32m    149\u001b[0m \u001b[43m            \u001b[49m\u001b[43mschema\u001b[49m\u001b[43m,\u001b[49m\n\u001b[0;32m    150\u001b[0m \u001b[43m            \u001b[49m\u001b[43marrow_flight_config\u001b[49m\u001b[38;5;241;43m=\u001b[39;49m\u001b[43mread_options\u001b[49m\u001b[38;5;241;43m.\u001b[39;49m\u001b[43mget\u001b[49m\u001b[43m(\u001b[49m\u001b[38;5;124;43m\"\u001b[39;49m\u001b[38;5;124;43marrow_flight_config\u001b[39;49m\u001b[38;5;124;43m\"\u001b[39;49m\u001b[43m,\u001b[49m\u001b[43m \u001b[49m\u001b[43m{\u001b[49m\u001b[43m}\u001b[49m\u001b[43m)\u001b[49m\n\u001b[0;32m    151\u001b[0m \u001b[43m            \u001b[49m\u001b[38;5;28;43;01mif\u001b[39;49;00m\u001b[43m \u001b[49m\u001b[43mread_options\u001b[49m\n\u001b[0;32m    152\u001b[0m \u001b[43m            \u001b[49m\u001b[38;5;28;43;01melse\u001b[39;49;00m\u001b[43m \u001b[49m\u001b[43m{\u001b[49m\u001b[43m}\u001b[49m\u001b[43m,\u001b[49m\n\u001b[0;32m    153\u001b[0m \u001b[43m        \u001b[49m\u001b[43m)\u001b[49m\n\u001b[0;32m    154\u001b[0m     \u001b[38;5;28;01melse\u001b[39;00m:\n\u001b[0;32m    155\u001b[0m         \u001b[38;5;28;01mreturn\u001b[39;00m \u001b[38;5;28mself\u001b[39m\u001b[38;5;241m.\u001b[39m_jdbc(\n\u001b[0;32m    156\u001b[0m             sql_query, online_conn, dataframe_type, read_options, schema\n\u001b[0;32m    157\u001b[0m         )\n",
      "File \u001b[1;32mc:\\Users\\2003j\\anaconda3\\envs\\citibike_predict_2\\lib\\site-packages\\hsfs\\engine\\python.py:197\u001b[0m, in \u001b[0;36mEngine._sql_offline\u001b[1;34m(self, sql_query, dataframe_type, schema, arrow_flight_config)\u001b[0m\n\u001b[0;32m    189\u001b[0m     result_df \u001b[38;5;241m=\u001b[39m util\u001b[38;5;241m.\u001b[39mrun_with_loading_animation(\n\u001b[0;32m    190\u001b[0m         \u001b[38;5;124m\"\u001b[39m\u001b[38;5;124mReading data from Hopsworks, using Hopsworks Feature Query Service\u001b[39m\u001b[38;5;124m\"\u001b[39m,\n\u001b[0;32m    191\u001b[0m         arrow_flight_client\u001b[38;5;241m.\u001b[39mget_instance()\u001b[38;5;241m.\u001b[39mread_query,\n\u001b[1;32m   (...)\u001b[0m\n\u001b[0;32m    194\u001b[0m         dataframe_type,\n\u001b[0;32m    195\u001b[0m     )\n\u001b[0;32m    196\u001b[0m \u001b[38;5;28;01melse\u001b[39;00m:\n\u001b[1;32m--> 197\u001b[0m     \u001b[38;5;28;01mraise\u001b[39;00m \u001b[38;5;167;01mValueError\u001b[39;00m(\n\u001b[0;32m    198\u001b[0m         \u001b[38;5;124m\"\u001b[39m\u001b[38;5;124mReading data with Hive is not supported when using hopsworks client version >= 4.0\u001b[39m\u001b[38;5;124m\"\u001b[39m\n\u001b[0;32m    199\u001b[0m     )\n\u001b[0;32m    200\u001b[0m \u001b[38;5;28;01mif\u001b[39;00m schema:\n\u001b[0;32m    201\u001b[0m     result_df \u001b[38;5;241m=\u001b[39m Engine\u001b[38;5;241m.\u001b[39mcast_columns(result_df, schema)\n",
      "\u001b[1;31mValueError\u001b[0m: Reading data with Hive is not supported when using hopsworks client version >= 4.0"
     ]
    }
   ],
   "source": [
    "print(f\"Fetching data from group store ...\")\n",
    "ts_data = fetch_days_data(180)"
   ]
  },
  {
   "cell_type": "code",
   "execution_count": null,
   "id": "d5857504",
   "metadata": {},
   "outputs": [
    {
     "data": {
      "text/html": [
       "<div>\n",
       "<style scoped>\n",
       "    .dataframe tbody tr th:only-of-type {\n",
       "        vertical-align: middle;\n",
       "    }\n",
       "\n",
       "    .dataframe tbody tr th {\n",
       "        vertical-align: top;\n",
       "    }\n",
       "\n",
       "    .dataframe thead th {\n",
       "        text-align: right;\n",
       "    }\n",
       "</style>\n",
       "<table border=\"1\" class=\"dataframe\">\n",
       "  <thead>\n",
       "    <tr style=\"text-align: right;\">\n",
       "      <th></th>\n",
       "      <th>pickup_hour</th>\n",
       "      <th>pickup_location_id</th>\n",
       "      <th>rides</th>\n",
       "    </tr>\n",
       "  </thead>\n",
       "  <tbody>\n",
       "    <tr>\n",
       "      <th>0</th>\n",
       "      <td>2025-05-03 20:00:00+00:00</td>\n",
       "      <td>JC108</td>\n",
       "      <td>0</td>\n",
       "    </tr>\n",
       "    <tr>\n",
       "      <th>1</th>\n",
       "      <td>2025-04-14 07:00:00+00:00</td>\n",
       "      <td>JC009</td>\n",
       "      <td>0</td>\n",
       "    </tr>\n",
       "    <tr>\n",
       "      <th>2</th>\n",
       "      <td>2025-04-19 05:00:00+00:00</td>\n",
       "      <td>HB301</td>\n",
       "      <td>0</td>\n",
       "    </tr>\n",
       "    <tr>\n",
       "      <th>3</th>\n",
       "      <td>2025-05-02 08:00:00+00:00</td>\n",
       "      <td>JC075</td>\n",
       "      <td>0</td>\n",
       "    </tr>\n",
       "    <tr>\n",
       "      <th>4</th>\n",
       "      <td>2025-05-02 12:00:00+00:00</td>\n",
       "      <td>JC053</td>\n",
       "      <td>2</td>\n",
       "    </tr>\n",
       "    <tr>\n",
       "      <th>...</th>\n",
       "      <td>...</td>\n",
       "      <td>...</td>\n",
       "      <td>...</td>\n",
       "    </tr>\n",
       "    <tr>\n",
       "      <th>744676</th>\n",
       "      <td>2024-12-30 13:00:00+00:00</td>\n",
       "      <td>JC057</td>\n",
       "      <td>0</td>\n",
       "    </tr>\n",
       "    <tr>\n",
       "      <th>744677</th>\n",
       "      <td>2025-02-28 12:00:00+00:00</td>\n",
       "      <td>JC074</td>\n",
       "      <td>7</td>\n",
       "    </tr>\n",
       "    <tr>\n",
       "      <th>744678</th>\n",
       "      <td>2025-03-16 05:00:00+00:00</td>\n",
       "      <td>JC072</td>\n",
       "      <td>0</td>\n",
       "    </tr>\n",
       "    <tr>\n",
       "      <th>744681</th>\n",
       "      <td>2025-01-08 16:00:00+00:00</td>\n",
       "      <td>JC018</td>\n",
       "      <td>0</td>\n",
       "    </tr>\n",
       "    <tr>\n",
       "      <th>744684</th>\n",
       "      <td>2025-02-14 16:00:00+00:00</td>\n",
       "      <td>HB401</td>\n",
       "      <td>0</td>\n",
       "    </tr>\n",
       "  </tbody>\n",
       "</table>\n",
       "<p>366775 rows × 3 columns</p>\n",
       "</div>"
      ],
      "text/plain": [
       "                     pickup_hour pickup_location_id  rides\n",
       "0      2025-05-03 20:00:00+00:00              JC108      0\n",
       "1      2025-04-14 07:00:00+00:00              JC009      0\n",
       "2      2025-04-19 05:00:00+00:00              HB301      0\n",
       "3      2025-05-02 08:00:00+00:00              JC075      0\n",
       "4      2025-05-02 12:00:00+00:00              JC053      2\n",
       "...                          ...                ...    ...\n",
       "744676 2024-12-30 13:00:00+00:00              JC057      0\n",
       "744677 2025-02-28 12:00:00+00:00              JC074      7\n",
       "744678 2025-03-16 05:00:00+00:00              JC072      0\n",
       "744681 2025-01-08 16:00:00+00:00              JC018      0\n",
       "744684 2025-02-14 16:00:00+00:00              HB401      0\n",
       "\n",
       "[366775 rows x 3 columns]"
      ]
     },
     "execution_count": 13,
     "metadata": {},
     "output_type": "execute_result"
    }
   ],
   "source": [
    "ts_data"
   ]
  }
 ],
 "metadata": {
  "kernelspec": {
   "display_name": "citibike_predict_2",
   "language": "python",
   "name": "python3"
  },
  "language_info": {
   "codemirror_mode": {
    "name": "ipython",
    "version": 3
   },
   "file_extension": ".py",
   "mimetype": "text/x-python",
   "name": "python",
   "nbconvert_exporter": "python",
   "pygments_lexer": "ipython3",
   "version": "3.10.16"
  }
 },
 "nbformat": 4,
 "nbformat_minor": 5
}
