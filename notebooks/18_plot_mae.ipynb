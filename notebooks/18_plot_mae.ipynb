{
 "cells": [
  {
   "cell_type": "code",
   "execution_count": 1,
   "id": "70a75bb5-92f2-4a5e-a4f5-ba8daa9eb668",
   "metadata": {},
   "outputs": [],
   "source": [
    "%load_ext autoreload\n",
    "%autoreload 2"
   ]
  },
  {
   "cell_type": "code",
   "execution_count": 2,
   "id": "6b71af71-2fd3-4c10-9a22-59fefa557202",
   "metadata": {},
   "outputs": [],
   "source": [
    "import sys\n",
    "import os\n",
    "\n",
    "# Add the parent directory to the Python path\n",
    "sys.path.append(os.path.abspath(os.path.join(os.getcwd(), \"..\")))\n",
    "import src.config as config"
   ]
  },
  {
   "cell_type": "code",
   "execution_count": 3,
   "id": "8c5bbc08-f5b5-4813-88ae-755e0aa9a6a6",
   "metadata": {},
   "outputs": [],
   "source": [
    "import hopsworks\n",
    "import pandas as pd\n",
    "from datetime import timedelta\n",
    "from src.inference import get_feature_store, fetch_predictions\n",
    "\n",
    "def fetch_hourly_rides(hours):\n",
    "    current_hour = (pd.Timestamp.now(tz=\"Etc/UTC\") - timedelta(hours=hours)).floor('h')\n",
    "\n",
    "    fs = get_feature_store()\n",
    "    fg = fs.get_feature_group(\n",
    "        name=config.FEATURE_GROUP_NAME,\n",
    "        version=1\n",
    "    )\n",
    "\n",
    "    query = fg.select_all()\n",
    "    query = query.filter(fg.pickup_hour >= current_hour)\n",
    "\n",
    "    return query.read()"
   ]
  },
  {
   "cell_type": "code",
   "execution_count": 4,
   "id": "73e6ac55-5c48-4ca7-92cf-a31efd0213fa",
   "metadata": {},
   "outputs": [
    {
     "name": "stdout",
     "output_type": "stream",
     "text": [
      "2025-03-02 16:36:38,701 INFO: Initializing external client\n",
      "2025-03-02 16:36:38,701 INFO: Base URL: https://c.app.hopsworks.ai:443\n",
      "2025-03-02 16:36:39,894 INFO: Python Engine initialized.\n",
      "\n",
      "Logged in to project, explore it here https://c.app.hopsworks.ai:443/p/1213637\n",
      "Finished: Reading data from Hopsworks, using Hopsworks Feature Query Service (3.68s) \n"
     ]
    }
   ],
   "source": [
    "df = fetch_hourly_rides(12)"
   ]
  },
  {
   "cell_type": "code",
   "execution_count": 5,
   "id": "d98f6519-87e4-412a-915d-e40f780ba2ce",
   "metadata": {},
   "outputs": [
    {
     "data": {
      "text/html": [
       "<div>\n",
       "<style scoped>\n",
       "    .dataframe tbody tr th:only-of-type {\n",
       "        vertical-align: middle;\n",
       "    }\n",
       "\n",
       "    .dataframe tbody tr th {\n",
       "        vertical-align: top;\n",
       "    }\n",
       "\n",
       "    .dataframe thead th {\n",
       "        text-align: right;\n",
       "    }\n",
       "</style>\n",
       "<table border=\"1\" class=\"dataframe\">\n",
       "  <thead>\n",
       "    <tr style=\"text-align: right;\">\n",
       "      <th></th>\n",
       "      <th>pickup_hour</th>\n",
       "      <th>pickup_location_id</th>\n",
       "      <th>rides</th>\n",
       "    </tr>\n",
       "  </thead>\n",
       "  <tbody>\n",
       "  </tbody>\n",
       "</table>\n",
       "</div>"
      ],
      "text/plain": [
       "Empty DataFrame\n",
       "Columns: [pickup_hour, pickup_location_id, rides]\n",
       "Index: []"
      ]
     },
     "execution_count": 5,
     "metadata": {},
     "output_type": "execute_result"
    }
   ],
   "source": [
    "df"
   ]
  },
  {
   "cell_type": "code",
   "execution_count": 6,
   "id": "726c8f81-57e4-4b4b-b1e1-76bd93a0c8cc",
   "metadata": {},
   "outputs": [
    {
     "name": "stdout",
     "output_type": "stream",
     "text": [
      "2025-03-02 16:36:46,461 INFO: Closing external client and cleaning up certificates.\n",
      "Connection closed.\n",
      "2025-03-02 16:36:46,464 INFO: Initializing external client\n",
      "2025-03-02 16:36:46,464 INFO: Base URL: https://c.app.hopsworks.ai:443\n",
      "2025-03-02 16:36:47,568 INFO: Python Engine initialized.\n",
      "\n",
      "Logged in to project, explore it here https://c.app.hopsworks.ai:443/p/1213637\n",
      "Finished: Reading data from Hopsworks, using Hopsworks Feature Query Service (0.55s) \n"
     ]
    }
   ],
   "source": [
    "df_pred = fetch_predictions(12)"
   ]
  },
  {
   "cell_type": "code",
   "execution_count": 7,
   "id": "2cc39644-1a5f-43f4-90cc-68569eb1dc61",
   "metadata": {},
   "outputs": [
    {
     "data": {
      "text/html": [
       "<div>\n",
       "<style scoped>\n",
       "    .dataframe tbody tr th:only-of-type {\n",
       "        vertical-align: middle;\n",
       "    }\n",
       "\n",
       "    .dataframe tbody tr th {\n",
       "        vertical-align: top;\n",
       "    }\n",
       "\n",
       "    .dataframe thead th {\n",
       "        text-align: right;\n",
       "    }\n",
       "</style>\n",
       "<table border=\"1\" class=\"dataframe\">\n",
       "  <thead>\n",
       "    <tr style=\"text-align: right;\">\n",
       "      <th></th>\n",
       "      <th>pickup_location_id</th>\n",
       "      <th>predicted_demand</th>\n",
       "      <th>pickup_hour</th>\n",
       "    </tr>\n",
       "  </thead>\n",
       "  <tbody>\n",
       "    <tr>\n",
       "      <th>0</th>\n",
       "      <td>198</td>\n",
       "      <td>0.0</td>\n",
       "      <td>2025-03-02 04:00:00+00:00</td>\n",
       "    </tr>\n",
       "    <tr>\n",
       "      <th>1</th>\n",
       "      <td>239</td>\n",
       "      <td>151.0</td>\n",
       "      <td>2025-03-02 04:00:00+00:00</td>\n",
       "    </tr>\n",
       "    <tr>\n",
       "      <th>2</th>\n",
       "      <td>31</td>\n",
       "      <td>0.0</td>\n",
       "      <td>2025-03-02 04:00:00+00:00</td>\n",
       "    </tr>\n",
       "    <tr>\n",
       "      <th>3</th>\n",
       "      <td>199</td>\n",
       "      <td>0.0</td>\n",
       "      <td>2025-03-02 04:00:00+00:00</td>\n",
       "    </tr>\n",
       "    <tr>\n",
       "      <th>4</th>\n",
       "      <td>30</td>\n",
       "      <td>0.0</td>\n",
       "      <td>2025-03-02 04:00:00+00:00</td>\n",
       "    </tr>\n",
       "    <tr>\n",
       "      <th>...</th>\n",
       "      <td>...</td>\n",
       "      <td>...</td>\n",
       "      <td>...</td>\n",
       "    </tr>\n",
       "    <tr>\n",
       "      <th>4764</th>\n",
       "      <td>127</td>\n",
       "      <td>0.0</td>\n",
       "      <td>2025-03-02 22:00:00+00:00</td>\n",
       "    </tr>\n",
       "    <tr>\n",
       "      <th>4765</th>\n",
       "      <td>184</td>\n",
       "      <td>0.0</td>\n",
       "      <td>2025-03-02 22:00:00+00:00</td>\n",
       "    </tr>\n",
       "    <tr>\n",
       "      <th>4766</th>\n",
       "      <td>200</td>\n",
       "      <td>0.0</td>\n",
       "      <td>2025-03-02 22:00:00+00:00</td>\n",
       "    </tr>\n",
       "    <tr>\n",
       "      <th>4767</th>\n",
       "      <td>9</td>\n",
       "      <td>0.0</td>\n",
       "      <td>2025-03-02 22:00:00+00:00</td>\n",
       "    </tr>\n",
       "    <tr>\n",
       "      <th>4768</th>\n",
       "      <td>234</td>\n",
       "      <td>147.0</td>\n",
       "      <td>2025-03-02 22:00:00+00:00</td>\n",
       "    </tr>\n",
       "  </tbody>\n",
       "</table>\n",
       "<p>4769 rows × 3 columns</p>\n",
       "</div>"
      ],
      "text/plain": [
       "      pickup_location_id  predicted_demand               pickup_hour\n",
       "0                    198               0.0 2025-03-02 04:00:00+00:00\n",
       "1                    239             151.0 2025-03-02 04:00:00+00:00\n",
       "2                     31               0.0 2025-03-02 04:00:00+00:00\n",
       "3                    199               0.0 2025-03-02 04:00:00+00:00\n",
       "4                     30               0.0 2025-03-02 04:00:00+00:00\n",
       "...                  ...               ...                       ...\n",
       "4764                 127               0.0 2025-03-02 22:00:00+00:00\n",
       "4765                 184               0.0 2025-03-02 22:00:00+00:00\n",
       "4766                 200               0.0 2025-03-02 22:00:00+00:00\n",
       "4767                   9               0.0 2025-03-02 22:00:00+00:00\n",
       "4768                 234             147.0 2025-03-02 22:00:00+00:00\n",
       "\n",
       "[4769 rows x 3 columns]"
      ]
     },
     "execution_count": 7,
     "metadata": {},
     "output_type": "execute_result"
    }
   ],
   "source": [
    "df_pred"
   ]
  },
  {
   "cell_type": "code",
   "execution_count": 8,
   "id": "78da8ce0-0e5f-45ca-a513-7508338ce335",
   "metadata": {},
   "outputs": [],
   "source": [
    "merged_df = pd.merge(df, df_pred, on=['pickup_location_id', 'pickup_hour'])"
   ]
  },
  {
   "cell_type": "code",
   "execution_count": 9,
   "id": "3d120e77-037f-42bb-90d9-33346c9e8343",
   "metadata": {},
   "outputs": [
    {
     "data": {
      "text/html": [
       "<div>\n",
       "<style scoped>\n",
       "    .dataframe tbody tr th:only-of-type {\n",
       "        vertical-align: middle;\n",
       "    }\n",
       "\n",
       "    .dataframe tbody tr th {\n",
       "        vertical-align: top;\n",
       "    }\n",
       "\n",
       "    .dataframe thead th {\n",
       "        text-align: right;\n",
       "    }\n",
       "</style>\n",
       "<table border=\"1\" class=\"dataframe\">\n",
       "  <thead>\n",
       "    <tr style=\"text-align: right;\">\n",
       "      <th></th>\n",
       "      <th>rides</th>\n",
       "      <th>pickup_location_id</th>\n",
       "      <th>predicted_demand</th>\n",
       "      <th>pickup_hour</th>\n",
       "    </tr>\n",
       "  </thead>\n",
       "  <tbody>\n",
       "  </tbody>\n",
       "</table>\n",
       "</div>"
      ],
      "text/plain": [
       "Empty DataFrame\n",
       "Columns: [rides, pickup_location_id, predicted_demand, pickup_hour]\n",
       "Index: []"
      ]
     },
     "execution_count": 9,
     "metadata": {},
     "output_type": "execute_result"
    }
   ],
   "source": [
    "merged_df"
   ]
  },
  {
   "cell_type": "code",
   "execution_count": 10,
   "id": "b2183a04-85b3-4a12-9344-c8efbd413612",
   "metadata": {},
   "outputs": [],
   "source": [
    "merged_df['difference'] = merged_df['predicted_demand'] - merged_df['rides']"
   ]
  },
  {
   "cell_type": "code",
   "execution_count": 11,
   "id": "49e5a44d-8f68-405b-a595-07fb7575ae84",
   "metadata": {},
   "outputs": [
    {
     "data": {
      "text/html": [
       "<div>\n",
       "<style scoped>\n",
       "    .dataframe tbody tr th:only-of-type {\n",
       "        vertical-align: middle;\n",
       "    }\n",
       "\n",
       "    .dataframe tbody tr th {\n",
       "        vertical-align: top;\n",
       "    }\n",
       "\n",
       "    .dataframe thead th {\n",
       "        text-align: right;\n",
       "    }\n",
       "</style>\n",
       "<table border=\"1\" class=\"dataframe\">\n",
       "  <thead>\n",
       "    <tr style=\"text-align: right;\">\n",
       "      <th></th>\n",
       "      <th>rides</th>\n",
       "      <th>pickup_location_id</th>\n",
       "      <th>predicted_demand</th>\n",
       "      <th>pickup_hour</th>\n",
       "      <th>difference</th>\n",
       "    </tr>\n",
       "  </thead>\n",
       "  <tbody>\n",
       "  </tbody>\n",
       "</table>\n",
       "</div>"
      ],
      "text/plain": [
       "Empty DataFrame\n",
       "Columns: [rides, pickup_location_id, predicted_demand, pickup_hour, difference]\n",
       "Index: []"
      ]
     },
     "execution_count": 11,
     "metadata": {},
     "output_type": "execute_result"
    }
   ],
   "source": [
    "merged_df.sort_values([\"pickup_location_id\", \"pickup_hour\"])"
   ]
  },
  {
   "cell_type": "code",
   "execution_count": 12,
   "id": "c681c57f-cf0b-4094-bf6c-6d2a9c4aa639",
   "metadata": {},
   "outputs": [
    {
     "data": {
      "text/html": [
       "<div>\n",
       "<style scoped>\n",
       "    .dataframe tbody tr th:only-of-type {\n",
       "        vertical-align: middle;\n",
       "    }\n",
       "\n",
       "    .dataframe tbody tr th {\n",
       "        vertical-align: top;\n",
       "    }\n",
       "\n",
       "    .dataframe thead th {\n",
       "        text-align: right;\n",
       "    }\n",
       "</style>\n",
       "<table border=\"1\" class=\"dataframe\">\n",
       "  <thead>\n",
       "    <tr style=\"text-align: right;\">\n",
       "      <th></th>\n",
       "      <th>rides</th>\n",
       "      <th>pickup_location_id</th>\n",
       "      <th>predicted_demand</th>\n",
       "      <th>pickup_hour</th>\n",
       "      <th>difference</th>\n",
       "    </tr>\n",
       "  </thead>\n",
       "  <tbody>\n",
       "  </tbody>\n",
       "</table>\n",
       "</div>"
      ],
      "text/plain": [
       "Empty DataFrame\n",
       "Columns: [rides, pickup_location_id, predicted_demand, pickup_hour, difference]\n",
       "Index: []"
      ]
     },
     "execution_count": 12,
     "metadata": {},
     "output_type": "execute_result"
    }
   ],
   "source": [
    "merged_df"
   ]
  },
  {
   "cell_type": "code",
   "execution_count": 13,
   "id": "cf710c60-1e82-46f6-a967-0226192334b7",
   "metadata": {},
   "outputs": [
    {
     "data": {
      "application/vnd.plotly.v1+json": {
       "config": {
        "plotlyServerURL": "https://plot.ly"
       },
       "data": [
        {
         "hovertemplate": "Pickup Hour=%{x}<br>Mean Absolute Error=%{y}<extra></extra>",
         "legendgroup": "",
         "line": {
          "color": "#636efa",
          "dash": "solid"
         },
         "marker": {
          "symbol": "circle"
         },
         "mode": "lines+markers",
         "name": "",
         "orientation": "v",
         "showlegend": false,
         "type": "scatter",
         "x": [],
         "xaxis": "x",
         "y": [],
         "yaxis": "y"
        }
       ],
       "layout": {
        "legend": {
         "tracegroupgap": 0
        },
        "template": {
         "data": {
          "bar": [
           {
            "error_x": {
             "color": "#2a3f5f"
            },
            "error_y": {
             "color": "#2a3f5f"
            },
            "marker": {
             "line": {
              "color": "#E5ECF6",
              "width": 0.5
             },
             "pattern": {
              "fillmode": "overlay",
              "size": 10,
              "solidity": 0.2
             }
            },
            "type": "bar"
           }
          ],
          "barpolar": [
           {
            "marker": {
             "line": {
              "color": "#E5ECF6",
              "width": 0.5
             },
             "pattern": {
              "fillmode": "overlay",
              "size": 10,
              "solidity": 0.2
             }
            },
            "type": "barpolar"
           }
          ],
          "carpet": [
           {
            "aaxis": {
             "endlinecolor": "#2a3f5f",
             "gridcolor": "white",
             "linecolor": "white",
             "minorgridcolor": "white",
             "startlinecolor": "#2a3f5f"
            },
            "baxis": {
             "endlinecolor": "#2a3f5f",
             "gridcolor": "white",
             "linecolor": "white",
             "minorgridcolor": "white",
             "startlinecolor": "#2a3f5f"
            },
            "type": "carpet"
           }
          ],
          "choropleth": [
           {
            "colorbar": {
             "outlinewidth": 0,
             "ticks": ""
            },
            "type": "choropleth"
           }
          ],
          "contour": [
           {
            "colorbar": {
             "outlinewidth": 0,
             "ticks": ""
            },
            "colorscale": [
             [
              0,
              "#0d0887"
             ],
             [
              0.1111111111111111,
              "#46039f"
             ],
             [
              0.2222222222222222,
              "#7201a8"
             ],
             [
              0.3333333333333333,
              "#9c179e"
             ],
             [
              0.4444444444444444,
              "#bd3786"
             ],
             [
              0.5555555555555556,
              "#d8576b"
             ],
             [
              0.6666666666666666,
              "#ed7953"
             ],
             [
              0.7777777777777778,
              "#fb9f3a"
             ],
             [
              0.8888888888888888,
              "#fdca26"
             ],
             [
              1,
              "#f0f921"
             ]
            ],
            "type": "contour"
           }
          ],
          "contourcarpet": [
           {
            "colorbar": {
             "outlinewidth": 0,
             "ticks": ""
            },
            "type": "contourcarpet"
           }
          ],
          "heatmap": [
           {
            "colorbar": {
             "outlinewidth": 0,
             "ticks": ""
            },
            "colorscale": [
             [
              0,
              "#0d0887"
             ],
             [
              0.1111111111111111,
              "#46039f"
             ],
             [
              0.2222222222222222,
              "#7201a8"
             ],
             [
              0.3333333333333333,
              "#9c179e"
             ],
             [
              0.4444444444444444,
              "#bd3786"
             ],
             [
              0.5555555555555556,
              "#d8576b"
             ],
             [
              0.6666666666666666,
              "#ed7953"
             ],
             [
              0.7777777777777778,
              "#fb9f3a"
             ],
             [
              0.8888888888888888,
              "#fdca26"
             ],
             [
              1,
              "#f0f921"
             ]
            ],
            "type": "heatmap"
           }
          ],
          "histogram": [
           {
            "marker": {
             "pattern": {
              "fillmode": "overlay",
              "size": 10,
              "solidity": 0.2
             }
            },
            "type": "histogram"
           }
          ],
          "histogram2d": [
           {
            "colorbar": {
             "outlinewidth": 0,
             "ticks": ""
            },
            "colorscale": [
             [
              0,
              "#0d0887"
             ],
             [
              0.1111111111111111,
              "#46039f"
             ],
             [
              0.2222222222222222,
              "#7201a8"
             ],
             [
              0.3333333333333333,
              "#9c179e"
             ],
             [
              0.4444444444444444,
              "#bd3786"
             ],
             [
              0.5555555555555556,
              "#d8576b"
             ],
             [
              0.6666666666666666,
              "#ed7953"
             ],
             [
              0.7777777777777778,
              "#fb9f3a"
             ],
             [
              0.8888888888888888,
              "#fdca26"
             ],
             [
              1,
              "#f0f921"
             ]
            ],
            "type": "histogram2d"
           }
          ],
          "histogram2dcontour": [
           {
            "colorbar": {
             "outlinewidth": 0,
             "ticks": ""
            },
            "colorscale": [
             [
              0,
              "#0d0887"
             ],
             [
              0.1111111111111111,
              "#46039f"
             ],
             [
              0.2222222222222222,
              "#7201a8"
             ],
             [
              0.3333333333333333,
              "#9c179e"
             ],
             [
              0.4444444444444444,
              "#bd3786"
             ],
             [
              0.5555555555555556,
              "#d8576b"
             ],
             [
              0.6666666666666666,
              "#ed7953"
             ],
             [
              0.7777777777777778,
              "#fb9f3a"
             ],
             [
              0.8888888888888888,
              "#fdca26"
             ],
             [
              1,
              "#f0f921"
             ]
            ],
            "type": "histogram2dcontour"
           }
          ],
          "mesh3d": [
           {
            "colorbar": {
             "outlinewidth": 0,
             "ticks": ""
            },
            "type": "mesh3d"
           }
          ],
          "parcoords": [
           {
            "line": {
             "colorbar": {
              "outlinewidth": 0,
              "ticks": ""
             }
            },
            "type": "parcoords"
           }
          ],
          "pie": [
           {
            "automargin": true,
            "type": "pie"
           }
          ],
          "scatter": [
           {
            "fillpattern": {
             "fillmode": "overlay",
             "size": 10,
             "solidity": 0.2
            },
            "type": "scatter"
           }
          ],
          "scatter3d": [
           {
            "line": {
             "colorbar": {
              "outlinewidth": 0,
              "ticks": ""
             }
            },
            "marker": {
             "colorbar": {
              "outlinewidth": 0,
              "ticks": ""
             }
            },
            "type": "scatter3d"
           }
          ],
          "scattercarpet": [
           {
            "marker": {
             "colorbar": {
              "outlinewidth": 0,
              "ticks": ""
             }
            },
            "type": "scattercarpet"
           }
          ],
          "scattergeo": [
           {
            "marker": {
             "colorbar": {
              "outlinewidth": 0,
              "ticks": ""
             }
            },
            "type": "scattergeo"
           }
          ],
          "scattergl": [
           {
            "marker": {
             "colorbar": {
              "outlinewidth": 0,
              "ticks": ""
             }
            },
            "type": "scattergl"
           }
          ],
          "scattermap": [
           {
            "marker": {
             "colorbar": {
              "outlinewidth": 0,
              "ticks": ""
             }
            },
            "type": "scattermap"
           }
          ],
          "scattermapbox": [
           {
            "marker": {
             "colorbar": {
              "outlinewidth": 0,
              "ticks": ""
             }
            },
            "type": "scattermapbox"
           }
          ],
          "scatterpolar": [
           {
            "marker": {
             "colorbar": {
              "outlinewidth": 0,
              "ticks": ""
             }
            },
            "type": "scatterpolar"
           }
          ],
          "scatterpolargl": [
           {
            "marker": {
             "colorbar": {
              "outlinewidth": 0,
              "ticks": ""
             }
            },
            "type": "scatterpolargl"
           }
          ],
          "scatterternary": [
           {
            "marker": {
             "colorbar": {
              "outlinewidth": 0,
              "ticks": ""
             }
            },
            "type": "scatterternary"
           }
          ],
          "surface": [
           {
            "colorbar": {
             "outlinewidth": 0,
             "ticks": ""
            },
            "colorscale": [
             [
              0,
              "#0d0887"
             ],
             [
              0.1111111111111111,
              "#46039f"
             ],
             [
              0.2222222222222222,
              "#7201a8"
             ],
             [
              0.3333333333333333,
              "#9c179e"
             ],
             [
              0.4444444444444444,
              "#bd3786"
             ],
             [
              0.5555555555555556,
              "#d8576b"
             ],
             [
              0.6666666666666666,
              "#ed7953"
             ],
             [
              0.7777777777777778,
              "#fb9f3a"
             ],
             [
              0.8888888888888888,
              "#fdca26"
             ],
             [
              1,
              "#f0f921"
             ]
            ],
            "type": "surface"
           }
          ],
          "table": [
           {
            "cells": {
             "fill": {
              "color": "#EBF0F8"
             },
             "line": {
              "color": "white"
             }
            },
            "header": {
             "fill": {
              "color": "#C8D4E3"
             },
             "line": {
              "color": "white"
             }
            },
            "type": "table"
           }
          ]
         },
         "layout": {
          "annotationdefaults": {
           "arrowcolor": "#2a3f5f",
           "arrowhead": 0,
           "arrowwidth": 1
          },
          "autotypenumbers": "strict",
          "coloraxis": {
           "colorbar": {
            "outlinewidth": 0,
            "ticks": ""
           }
          },
          "colorscale": {
           "diverging": [
            [
             0,
             "#8e0152"
            ],
            [
             0.1,
             "#c51b7d"
            ],
            [
             0.2,
             "#de77ae"
            ],
            [
             0.3,
             "#f1b6da"
            ],
            [
             0.4,
             "#fde0ef"
            ],
            [
             0.5,
             "#f7f7f7"
            ],
            [
             0.6,
             "#e6f5d0"
            ],
            [
             0.7,
             "#b8e186"
            ],
            [
             0.8,
             "#7fbc41"
            ],
            [
             0.9,
             "#4d9221"
            ],
            [
             1,
             "#276419"
            ]
           ],
           "sequential": [
            [
             0,
             "#0d0887"
            ],
            [
             0.1111111111111111,
             "#46039f"
            ],
            [
             0.2222222222222222,
             "#7201a8"
            ],
            [
             0.3333333333333333,
             "#9c179e"
            ],
            [
             0.4444444444444444,
             "#bd3786"
            ],
            [
             0.5555555555555556,
             "#d8576b"
            ],
            [
             0.6666666666666666,
             "#ed7953"
            ],
            [
             0.7777777777777778,
             "#fb9f3a"
            ],
            [
             0.8888888888888888,
             "#fdca26"
            ],
            [
             1,
             "#f0f921"
            ]
           ],
           "sequentialminus": [
            [
             0,
             "#0d0887"
            ],
            [
             0.1111111111111111,
             "#46039f"
            ],
            [
             0.2222222222222222,
             "#7201a8"
            ],
            [
             0.3333333333333333,
             "#9c179e"
            ],
            [
             0.4444444444444444,
             "#bd3786"
            ],
            [
             0.5555555555555556,
             "#d8576b"
            ],
            [
             0.6666666666666666,
             "#ed7953"
            ],
            [
             0.7777777777777778,
             "#fb9f3a"
            ],
            [
             0.8888888888888888,
             "#fdca26"
            ],
            [
             1,
             "#f0f921"
            ]
           ]
          },
          "colorway": [
           "#636efa",
           "#EF553B",
           "#00cc96",
           "#ab63fa",
           "#FFA15A",
           "#19d3f3",
           "#FF6692",
           "#B6E880",
           "#FF97FF",
           "#FECB52"
          ],
          "font": {
           "color": "#2a3f5f"
          },
          "geo": {
           "bgcolor": "white",
           "lakecolor": "white",
           "landcolor": "#E5ECF6",
           "showlakes": true,
           "showland": true,
           "subunitcolor": "white"
          },
          "hoverlabel": {
           "align": "left"
          },
          "hovermode": "closest",
          "mapbox": {
           "style": "light"
          },
          "paper_bgcolor": "white",
          "plot_bgcolor": "#E5ECF6",
          "polar": {
           "angularaxis": {
            "gridcolor": "white",
            "linecolor": "white",
            "ticks": ""
           },
           "bgcolor": "#E5ECF6",
           "radialaxis": {
            "gridcolor": "white",
            "linecolor": "white",
            "ticks": ""
           }
          },
          "scene": {
           "xaxis": {
            "backgroundcolor": "#E5ECF6",
            "gridcolor": "white",
            "gridwidth": 2,
            "linecolor": "white",
            "showbackground": true,
            "ticks": "",
            "zerolinecolor": "white"
           },
           "yaxis": {
            "backgroundcolor": "#E5ECF6",
            "gridcolor": "white",
            "gridwidth": 2,
            "linecolor": "white",
            "showbackground": true,
            "ticks": "",
            "zerolinecolor": "white"
           },
           "zaxis": {
            "backgroundcolor": "#E5ECF6",
            "gridcolor": "white",
            "gridwidth": 2,
            "linecolor": "white",
            "showbackground": true,
            "ticks": "",
            "zerolinecolor": "white"
           }
          },
          "shapedefaults": {
           "line": {
            "color": "#2a3f5f"
           }
          },
          "ternary": {
           "aaxis": {
            "gridcolor": "white",
            "linecolor": "white",
            "ticks": ""
           },
           "baxis": {
            "gridcolor": "white",
            "linecolor": "white",
            "ticks": ""
           },
           "bgcolor": "#E5ECF6",
           "caxis": {
            "gridcolor": "white",
            "linecolor": "white",
            "ticks": ""
           }
          },
          "title": {
           "x": 0.05
          },
          "xaxis": {
           "automargin": true,
           "gridcolor": "white",
           "linecolor": "white",
           "ticks": "",
           "title": {
            "standoff": 15
           },
           "zerolinecolor": "white",
           "zerolinewidth": 2
          },
          "yaxis": {
           "automargin": true,
           "gridcolor": "white",
           "linecolor": "white",
           "ticks": "",
           "title": {
            "standoff": 15
           },
           "zerolinecolor": "white",
           "zerolinewidth": 2
          }
         }
        },
        "title": {
         "text": "Mean Absolute Error (MAE) by Pickup Hour"
        },
        "xaxis": {
         "anchor": "y",
         "domain": [
          0,
          1
         ],
         "title": {
          "text": "Pickup Hour"
         }
        },
        "yaxis": {
         "anchor": "x",
         "domain": [
          0,
          1
         ],
         "title": {
          "text": "Mean Absolute Error"
         }
        }
       }
      }
     },
     "metadata": {},
     "output_type": "display_data"
    }
   ],
   "source": [
    "import pandas as pd  \n",
    "import plotly.express as px\n",
    "df1 = df\n",
    "df2 = df_pred\n",
    "\n",
    "# Merge the DataFrames on 'pickup_location_id' and 'pickup_hour'  \n",
    "merged_df = pd.merge(df1, df2, on=['pickup_location_id', 'pickup_hour'])  \n",
    "\n",
    "# Calculate the absolute error  \n",
    "merged_df['absolute_error'] = abs(merged_df['predicted_demand'] - merged_df['rides'])  \n",
    "\n",
    "# Group by 'pickup_hour' and calculate the mean absolute error (MAE)  \n",
    "mae_by_hour = merged_df.groupby('pickup_hour')['absolute_error'].mean().reset_index()  \n",
    "mae_by_hour.rename(columns={'absolute_error': 'MAE'}, inplace=True)  \n",
    "\n",
    "# Create a Plotly plot  \n",
    "fig = px.line(  \n",
    "    mae_by_hour,  \n",
    "    x='pickup_hour',  \n",
    "    y='MAE',  \n",
    "    title='Mean Absolute Error (MAE) by Pickup Hour',  \n",
    "    labels={'pickup_hour': 'Pickup Hour', 'MAE': 'Mean Absolute Error'},  \n",
    "    markers=True  \n",
    ")  \n",
    "\n",
    "# Show the plot  \n",
    "fig.show()"
   ]
  },
  {
   "cell_type": "code",
   "execution_count": 14,
   "id": "9765143d-e386-4a2f-91eb-ecfa259f7ce4",
   "metadata": {},
   "outputs": [
    {
     "data": {
      "text/plain": [
       "nan"
      ]
     },
     "execution_count": 14,
     "metadata": {},
     "output_type": "execute_result"
    }
   ],
   "source": [
    "mae_by_hour[\"MAE\"].mean()"
   ]
  },
  {
   "cell_type": "code",
   "execution_count": null,
   "id": "4ff4e80c-9fae-4152-93d6-f59c864d1d80",
   "metadata": {},
   "outputs": [],
   "source": [
    "def fetch_hourly_ridess(hours):\n",
    "    current_hour = (pd.Timestamp.now(tz=\"Etc/UTC\") - timedelta(hours=hours)).floor(\"h\")\n",
    "    current_hour_str = current_hour.strftime('%Y-%m-%d %H:%M:%S') \n",
    "    print(\"jai balayya\")\n",
    "    print(current_hour)\n",
    "    print(type(current_hour))\n",
    "    fs = get_feature_store()\n",
    "    fg = fs.get_feature_group(name=config.FEATURE_GROUP_NAME, version=1)\n",
    "\n",
    "    query = fg.select_all()\n",
    "    print(query.read())\n",
    "    print(fg.pickup_hour)\n",
    "    # query = query.filter(fg.pickup_hour >= current_hour_str)\n",
    "\n",
    "    return query.read()\n",
    "df=fetch_hourly_ridess(12)"
   ]
  },
  {
   "cell_type": "code",
   "execution_count": 46,
   "id": "c9dab959",
   "metadata": {},
   "outputs": [
    {
     "name": "stdout",
     "output_type": "stream",
     "text": [
      "jai balayya\n",
      "2025-03-02 11:00:00+00:00\n",
      "<class 'pandas._libs.tslibs.timestamps.Timestamp'>\n",
      "2025-03-02 18:52:14,373 INFO: Closing external client and cleaning up certificates.\n",
      "Connection closed.\n",
      "2025-03-02 18:52:14,378 INFO: Initializing external client\n",
      "2025-03-02 18:52:14,378 INFO: Base URL: https://c.app.hopsworks.ai:443\n",
      "2025-03-02 18:52:15,141 INFO: Python Engine initialized.\n",
      "\n",
      "Logged in to project, explore it here https://c.app.hopsworks.ai:443/p/1213637\n",
      "Finished: Reading data from Hopsworks, using Hopsworks Feature Query Service (5.58s) \n",
      "                      pickup_hour  pickup_location_id  rides\n",
      "0       2025-02-03 15:00:00+00:00                  33      2\n",
      "1       2025-02-15 14:00:00+00:00                 162    139\n",
      "2       2025-02-08 15:00:00+00:00                 114     99\n",
      "3       2025-02-12 09:00:00+00:00                  93      1\n",
      "4       2025-02-28 23:00:00+00:00                 263    112\n",
      "...                           ...                 ...    ...\n",
      "2621400 2023-02-21 08:00:00+00:00                 130      0\n",
      "2621401 2023-03-16 21:00:00+00:00                 232      5\n",
      "2621402 2023-05-20 01:00:00+00:00                  50     43\n",
      "2621403 2023-08-09 03:00:00+00:00                  12      0\n",
      "2621404 2023-04-30 16:00:00+00:00                  57      0\n",
      "\n",
      "[2621405 rows x 3 columns]\n",
      "{\"name\": \"pickup_hour\", \"type\": \"timestamp\", \"description\": null, \"partition\": false, \"hudiPrecombineKey\": true, \"primary\": true, \"onlineType\": null, \"defaultValue\": null, \"featureGroupId\": 1403258, \"onDemand\": false}\n",
      "Finished: Reading data from Hopsworks, using Hopsworks Feature Query Service (6.95s) \n"
     ]
    },
    {
     "data": {
      "text/html": [
       "<div>\n",
       "<style scoped>\n",
       "    .dataframe tbody tr th:only-of-type {\n",
       "        vertical-align: middle;\n",
       "    }\n",
       "\n",
       "    .dataframe tbody tr th {\n",
       "        vertical-align: top;\n",
       "    }\n",
       "\n",
       "    .dataframe thead th {\n",
       "        text-align: right;\n",
       "    }\n",
       "</style>\n",
       "<table border=\"1\" class=\"dataframe\">\n",
       "  <thead>\n",
       "    <tr style=\"text-align: right;\">\n",
       "      <th></th>\n",
       "      <th>pickup_hour</th>\n",
       "      <th>pickup_location_id</th>\n",
       "      <th>rides</th>\n",
       "    </tr>\n",
       "  </thead>\n",
       "  <tbody>\n",
       "    <tr>\n",
       "      <th>0</th>\n",
       "      <td>2025-02-03 15:00:00+00:00</td>\n",
       "      <td>33</td>\n",
       "      <td>2</td>\n",
       "    </tr>\n",
       "    <tr>\n",
       "      <th>1</th>\n",
       "      <td>2025-02-15 14:00:00+00:00</td>\n",
       "      <td>162</td>\n",
       "      <td>139</td>\n",
       "    </tr>\n",
       "    <tr>\n",
       "      <th>2</th>\n",
       "      <td>2025-02-08 15:00:00+00:00</td>\n",
       "      <td>114</td>\n",
       "      <td>99</td>\n",
       "    </tr>\n",
       "    <tr>\n",
       "      <th>3</th>\n",
       "      <td>2025-02-12 09:00:00+00:00</td>\n",
       "      <td>93</td>\n",
       "      <td>1</td>\n",
       "    </tr>\n",
       "    <tr>\n",
       "      <th>4</th>\n",
       "      <td>2025-02-28 23:00:00+00:00</td>\n",
       "      <td>263</td>\n",
       "      <td>112</td>\n",
       "    </tr>\n",
       "    <tr>\n",
       "      <th>...</th>\n",
       "      <td>...</td>\n",
       "      <td>...</td>\n",
       "      <td>...</td>\n",
       "    </tr>\n",
       "    <tr>\n",
       "      <th>2621400</th>\n",
       "      <td>2023-02-21 08:00:00+00:00</td>\n",
       "      <td>130</td>\n",
       "      <td>0</td>\n",
       "    </tr>\n",
       "    <tr>\n",
       "      <th>2621401</th>\n",
       "      <td>2023-03-16 21:00:00+00:00</td>\n",
       "      <td>232</td>\n",
       "      <td>5</td>\n",
       "    </tr>\n",
       "    <tr>\n",
       "      <th>2621402</th>\n",
       "      <td>2023-05-20 01:00:00+00:00</td>\n",
       "      <td>50</td>\n",
       "      <td>43</td>\n",
       "    </tr>\n",
       "    <tr>\n",
       "      <th>2621403</th>\n",
       "      <td>2023-08-09 03:00:00+00:00</td>\n",
       "      <td>12</td>\n",
       "      <td>0</td>\n",
       "    </tr>\n",
       "    <tr>\n",
       "      <th>2621404</th>\n",
       "      <td>2023-04-30 16:00:00+00:00</td>\n",
       "      <td>57</td>\n",
       "      <td>0</td>\n",
       "    </tr>\n",
       "  </tbody>\n",
       "</table>\n",
       "<p>2621405 rows × 3 columns</p>\n",
       "</div>"
      ],
      "text/plain": [
       "                      pickup_hour  pickup_location_id  rides\n",
       "0       2025-02-03 15:00:00+00:00                  33      2\n",
       "1       2025-02-15 14:00:00+00:00                 162    139\n",
       "2       2025-02-08 15:00:00+00:00                 114     99\n",
       "3       2025-02-12 09:00:00+00:00                  93      1\n",
       "4       2025-02-28 23:00:00+00:00                 263    112\n",
       "...                           ...                 ...    ...\n",
       "2621400 2023-02-21 08:00:00+00:00                 130      0\n",
       "2621401 2023-03-16 21:00:00+00:00                 232      5\n",
       "2621402 2023-05-20 01:00:00+00:00                  50     43\n",
       "2621403 2023-08-09 03:00:00+00:00                  12      0\n",
       "2621404 2023-04-30 16:00:00+00:00                  57      0\n",
       "\n",
       "[2621405 rows x 3 columns]"
      ]
     },
     "execution_count": 46,
     "metadata": {},
     "output_type": "execute_result"
    }
   ],
   "source": [
    "df=fetch_hourly_ridess(12)\n",
    "df"
   ]
  },
  {
   "cell_type": "code",
   "execution_count": 47,
   "id": "b789110a",
   "metadata": {},
   "outputs": [
    {
     "data": {
      "text/html": [
       "<div>\n",
       "<style scoped>\n",
       "    .dataframe tbody tr th:only-of-type {\n",
       "        vertical-align: middle;\n",
       "    }\n",
       "\n",
       "    .dataframe tbody tr th {\n",
       "        vertical-align: top;\n",
       "    }\n",
       "\n",
       "    .dataframe thead th {\n",
       "        text-align: right;\n",
       "    }\n",
       "</style>\n",
       "<table border=\"1\" class=\"dataframe\">\n",
       "  <thead>\n",
       "    <tr style=\"text-align: right;\">\n",
       "      <th></th>\n",
       "      <th>pickup_hour</th>\n",
       "      <th>pickup_location_id</th>\n",
       "      <th>rides</th>\n",
       "    </tr>\n",
       "  </thead>\n",
       "  <tbody>\n",
       "    <tr>\n",
       "      <th>1883610</th>\n",
       "      <td>2025-03-01 23:00:00+00:00</td>\n",
       "      <td>186</td>\n",
       "      <td>138</td>\n",
       "    </tr>\n",
       "    <tr>\n",
       "      <th>708679</th>\n",
       "      <td>2025-03-01 23:00:00+00:00</td>\n",
       "      <td>50</td>\n",
       "      <td>32</td>\n",
       "    </tr>\n",
       "    <tr>\n",
       "      <th>2015529</th>\n",
       "      <td>2025-03-01 23:00:00+00:00</td>\n",
       "      <td>63</td>\n",
       "      <td>0</td>\n",
       "    </tr>\n",
       "    <tr>\n",
       "      <th>1296044</th>\n",
       "      <td>2025-03-01 23:00:00+00:00</td>\n",
       "      <td>221</td>\n",
       "      <td>0</td>\n",
       "    </tr>\n",
       "    <tr>\n",
       "      <th>333374</th>\n",
       "      <td>2025-03-01 23:00:00+00:00</td>\n",
       "      <td>208</td>\n",
       "      <td>0</td>\n",
       "    </tr>\n",
       "    <tr>\n",
       "      <th>...</th>\n",
       "      <td>...</td>\n",
       "      <td>...</td>\n",
       "      <td>...</td>\n",
       "    </tr>\n",
       "    <tr>\n",
       "      <th>1078423</th>\n",
       "      <td>2023-01-01 00:00:00+00:00</td>\n",
       "      <td>223</td>\n",
       "      <td>1</td>\n",
       "    </tr>\n",
       "    <tr>\n",
       "      <th>858908</th>\n",
       "      <td>2023-01-01 00:00:00+00:00</td>\n",
       "      <td>259</td>\n",
       "      <td>0</td>\n",
       "    </tr>\n",
       "    <tr>\n",
       "      <th>664897</th>\n",
       "      <td>2023-01-01 00:00:00+00:00</td>\n",
       "      <td>187</td>\n",
       "      <td>0</td>\n",
       "    </tr>\n",
       "    <tr>\n",
       "      <th>1711871</th>\n",
       "      <td>2023-01-01 00:00:00+00:00</td>\n",
       "      <td>235</td>\n",
       "      <td>0</td>\n",
       "    </tr>\n",
       "    <tr>\n",
       "      <th>805313</th>\n",
       "      <td>2023-01-01 00:00:00+00:00</td>\n",
       "      <td>251</td>\n",
       "      <td>0</td>\n",
       "    </tr>\n",
       "  </tbody>\n",
       "</table>\n",
       "<p>2621405 rows × 3 columns</p>\n",
       "</div>"
      ],
      "text/plain": [
       "                      pickup_hour  pickup_location_id  rides\n",
       "1883610 2025-03-01 23:00:00+00:00                 186    138\n",
       "708679  2025-03-01 23:00:00+00:00                  50     32\n",
       "2015529 2025-03-01 23:00:00+00:00                  63      0\n",
       "1296044 2025-03-01 23:00:00+00:00                 221      0\n",
       "333374  2025-03-01 23:00:00+00:00                 208      0\n",
       "...                           ...                 ...    ...\n",
       "1078423 2023-01-01 00:00:00+00:00                 223      1\n",
       "858908  2023-01-01 00:00:00+00:00                 259      0\n",
       "664897  2023-01-01 00:00:00+00:00                 187      0\n",
       "1711871 2023-01-01 00:00:00+00:00                 235      0\n",
       "805313  2023-01-01 00:00:00+00:00                 251      0\n",
       "\n",
       "[2621405 rows x 3 columns]"
      ]
     },
     "execution_count": 47,
     "metadata": {},
     "output_type": "execute_result"
    }
   ],
   "source": [
    "current_hour = (pd.Timestamp.now(tz=\"Etc/UTC\") - timedelta(hours=12)).floor(\"h\")\n",
    "current_hour_str = current_hour.strftime('%Y-%m-%d %H:%M:%S') \n",
    "df.sort_values(by=[\"pickup_hour\"], ascending=False)"
   ]
  }
 ],
 "metadata": {
  "kernelspec": {
   "display_name": ".venv",
   "language": "python",
   "name": "python3"
  },
  "language_info": {
   "codemirror_mode": {
    "name": "ipython",
    "version": 3
   },
   "file_extension": ".py",
   "mimetype": "text/x-python",
   "name": "python",
   "nbconvert_exporter": "python",
   "pygments_lexer": "ipython3",
   "version": "3.11.11"
  }
 },
 "nbformat": 4,
 "nbformat_minor": 5
}
